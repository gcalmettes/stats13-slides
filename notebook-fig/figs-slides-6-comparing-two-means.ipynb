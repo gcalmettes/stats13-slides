{
 "cells": [
  {
   "cell_type": "code",
   "execution_count": 1,
   "metadata": {
    "collapsed": false,
    "deletable": true,
    "editable": true
   },
   "outputs": [],
   "source": [
    "import numpy as np\n",
    "import matplotlib.pyplot as plt\n",
    "import matplotlib as mpl\n",
    "import pandas as pd\n",
    "import re\n",
    "import scipy as sp\n",
    "import scipy.stats as stats\n",
    "from scipy.interpolate import interp1d\n",
    "\n",
    "import stats13tools.stats13tools as st\n",
    "\n",
    "%matplotlib inline"
   ]
  },
  {
   "cell_type": "code",
   "execution_count": 2,
   "metadata": {
    "collapsed": true,
    "deletable": true,
    "editable": true
   },
   "outputs": [],
   "source": [
    "colors = {\"orange\": \"#f0ad4e\",\n",
    "          \"red\": \"#d9534f\",\n",
    "          \"blue\": \"#5bc0de\",\n",
    "          \"green\": \"#5cb85c\",\n",
    "          \"gray\": \"#636c72\",\n",
    "          \"lightgray\": \"#d2d2d2\"\n",
    "         }"
   ]
  },
  {
   "cell_type": "markdown",
   "metadata": {},
   "source": [
    "# Bike commute times"
   ]
  },
  {
   "cell_type": "code",
   "execution_count": 54,
   "metadata": {
    "collapsed": false
   },
   "outputs": [],
   "source": [
    "data = pd.read_csv(\"data-src/bike-commute-times.csv\")\n",
    "#data"
   ]
  },
  {
   "cell_type": "code",
   "execution_count": 55,
   "metadata": {
    "collapsed": false
   },
   "outputs": [
    {
     "data": {
      "image/png": "[encoded data removed]",
      "text/plain": [
       "<matplotlib.figure.Figure at 0x11e53ea90>"
      ]
     },
     "metadata": {},
     "output_type": "display_data"
    }
   ],
   "source": [
    "fig = plt.figure(figsize=(6,4))\n",
    "ax1 = fig.add_axes([0.15, 0.15, 0.8, 0.8])\n",
    "    \n",
    "for ax in [ax1]:\n",
    "    ax.boxplot([data[data.Frame==\"steel\"].Time, data[data.Frame==\"carbon\"].Time], labels=[\"Carbon\\nframe\", \"Steel\\nframe\"],\n",
    "              boxprops = dict(linewidth=2, color=colors[\"lightgray\"]),\n",
    "              flierprops = dict(marker='o', markeredgecolor=colors[\"lightgray\"], linestyle='none'),\n",
    "              whiskerprops = dict(color=colors[\"lightgray\"], linewidth=2),\n",
    "              capprops = dict(color=colors[\"lightgray\"], linewidth=2),\n",
    "              medianprops = dict(color=colors[\"orange\"], linewidth=2))\n",
    "    for spine in [\"bottom\", \"left\"]:\n",
    "        ax.spines[spine].set_linewidth(1)\n",
    "        ax.spines[spine].set_color(colors[\"lightgray\"])\n",
    "    for spine in [\"top\", \"right\"]:\n",
    "        ax.spines[spine].set_visible(False)\n",
    "    ax.set_ylabel(\"Commuting time\", size=18, color=colors[\"lightgray\"], ha=\"center\")\n",
    "    ax.tick_params(axis=\"y\", width=1, size=4, color=colors[\"lightgray\"], labelcolor=colors[\"lightgray\"], \n",
    "                   labelsize=13, pad=4)\n",
    "    ax.tick_params(axis=\"x\", width=1, size=0, labelcolor=colors[\"lightgray\"], \n",
    "                   labelsize=16, pad=6)\n",
    "    #ax.set_xlabel(\"Relative risk\", size=18, color=colors[\"lightgray\"], ha=\"center\")\n",
    "    #ax.set_ylim(0)\n",
    "    #ax.set_xlim(0.85, 7)\n",
    "    \n",
    "plt.savefig(\"/Users/Gui/Box Sync/_STATS13/_Slides/_stats13-Lectures/assets/img/lec/bike-commute-boxplot.svg\", transparent=True)"
   ]
  },
  {
   "cell_type": "code",
   "execution_count": 61,
   "metadata": {
    "collapsed": false
   },
   "outputs": [
    {
     "name": "stdout",
     "output_type": "stream",
     "text": [
      "Carbon frame:\n",
      " mean = 108.344, std = 6.248\n",
      "Steel frame:\n",
      " mean = 107.809, std = 4.892\n"
     ]
    }
   ],
   "source": [
    "print(\"Carbon frame:\\n\", \"mean = {:.3f}, std = {:.3f}\".format(data[data.Frame==\"carbon\"].Time.mean(), data[data.Frame==\"carbon\"].Time.std()))\n",
    "print(\"Steel frame:\\n\", \"mean = {:.3f}, std = {:.3f}\".format(data[data.Frame==\"steel\"].Time.mean(), data[data.Frame==\"steel\"].Time.std()))"
   ]
  },
  {
   "cell_type": "markdown",
   "metadata": {
    "collapsed": false
   },
   "source": [
    "# Simulation null hypothesis"
   ]
  },
  {
   "cell_type": "code",
   "execution_count": 58,
   "metadata": {
    "collapsed": true
   },
   "outputs": [],
   "source": [
    "n_simul = 10000\n",
    "res_diff_mean = np.zeros(n_simul) #store the data\n",
    "res_diff_median = np.zeros(n_simul) #store the data\n",
    "\n",
    "n_bike_carbon = len(data[data.Frame==\"carbon\"])\n",
    "n_bike_steel = len(data[data.Frame==\"steel\"])\n",
    "\n",
    "all_times = data.Time.values.copy()\n",
    "\n",
    "#each simulation is the shuffling of the full population and the\n",
    "#calculation of the difference in proportion of shifts with death\n",
    "for i in range(n_simul):\n",
    "    np.random.shuffle(all_times)\n",
    "    carbon_times = all_times[:n_bike_carbon]\n",
    "    steel_times = all_times[n_bike_carbon:]\n",
    "    res_diff_mean[i] = np.mean(carbon_times)-np.mean(steel_times)\n",
    "    res_diff_median[i] = np.median(carbon_times)-np.median(steel_times)"
   ]
  },
  {
   "cell_type": "markdown",
   "metadata": {},
   "source": [
    "### Simulation steps"
   ]
  },
  {
   "cell_type": "code",
   "execution_count": 59,
   "metadata": {
    "collapsed": false
   },
   "outputs": [
    {
     "data": {
      "image/png": "[encoded data removed]",
      "text/plain": [
       "<matplotlib.figure.Figure at 0x11e7e02b0>"
      ]
     },
     "metadata": {},
     "output_type": "display_data"
    }
   ],
   "source": [
    "x1, y1 = st.to_dotplot(res_diff_mean[:120], kind=\"bins\", scale=0.05, nbins=20)\n",
    "\n",
    "#randomize order of each rows of data points\n",
    "rows_yval = np.unique(y1)\n",
    "idx_by_rows = [list(np.where(y1 == val)[0]) for val in rows_yval]\n",
    "for i in range(len(idx_by_rows)):\n",
    "    np.random.shuffle(idx_by_rows[i])\n",
    "shuffled_idx = np.concatenate(idx_by_rows)\n",
    "\n",
    "x1 = x1[shuffled_idx]\n",
    "y1 = y1[shuffled_idx]\n",
    "\n",
    "fig, ax1 = plt.subplots(figsize=(6, 4))\n",
    "ax2 = ax1.twinx()\n",
    "ax3 = ax1.twinx()\n",
    "ax4 = ax1.twinx()\n",
    "ax5 = ax1.twinx()\n",
    "ax6 = ax1.twinx()\n",
    "ax7 = ax1.twinx()\n",
    "ax8 = ax1.twinx()\n",
    "\n",
    "for ax in [ax1]:\n",
    "    for spine in [\"bottom\"]:\n",
    "        ax.spines[spine].set_linewidth(1)\n",
    "        ax.spines[spine].set_color(colors[\"lightgray\"])\n",
    "    for spine in [\"top\", \"right\", \"left\"]:\n",
    "        ax.spines[spine].set_visible(False)\n",
    "    ax.set_yticks([])\n",
    "    ax.tick_params(axis=\"both\", width=1, size=4, color=colors[\"lightgray\"], labelcolor=colors[\"lightgray\"], \n",
    "                   labelsize=13, pad=4)\n",
    "    ax.set_xlabel(r'$\\bar{x}_{\\mathrm{carbon}}-\\bar{x}_{\\mathrm{steel}}$ (min)', size=18, color=colors[\"lightgray\"])\n",
    "    ax.set_ylim(-0.02, 1.2)\n",
    "    ax.set_xlim(res_diff_mean.min()-1, res_diff_mean.max()+1)\n",
    "    ax.ticklabel_format(style='sci', axis='x', scilimits=(0,5))\n",
    "\n",
    "for ax in [ax2, ax3, ax4, ax5, ax6, ax7, ax8]:\n",
    "    ax.set_ylim(ax1.get_ylim())\n",
    "    ax.axis(\"off\")\n",
    "    \n",
    "for ax in [ax2]:\n",
    "    ax.scatter(x1[0], y1[0], s=50, color=colors[\"blue\"])\n",
    "\n",
    "for ax in [ax3]:\n",
    "    ax.scatter(x1[1], y1[1], s=50, color=colors[\"blue\"])\n",
    "\n",
    "for ax in [ax4]:\n",
    "    ax.scatter(x1[2], y1[2], s=50, color=colors[\"blue\"])\n",
    "\n",
    "for ax in [ax5]:\n",
    "    ax.scatter(x1[3:25], y1[3:25], color=colors[\"blue\"])\n",
    "\n",
    "for ax in [ax6]:\n",
    "    ax.scatter(x1[25:50], y1[25:50], color=colors[\"blue\"])\n",
    "\n",
    "for ax in [ax7]:\n",
    "    ax.scatter(x1[50:80], y1[50:80], color=colors[\"blue\"])\n",
    "\n",
    "for ax in [ax8]:\n",
    "    ax.scatter(x1[80:], y1[80:], color=colors[\"blue\"])\n",
    "\n",
    "plt.tight_layout()\n",
    "\n",
    "plt.savefig(\"/Users/Gui/Box Sync/_STATS13/_Slides/_stats13-Lectures/assets/img/lec/bike-commute-simulation-diff-mean.svg\", transparent=True)"
   ]
  },
  {
   "cell_type": "code",
   "execution_count": 60,
   "metadata": {
    "collapsed": false
   },
   "outputs": [
    {
     "data": {
      "image/png": "[encoded data removed]",
      "text/plain": [
       "<matplotlib.figure.Figure at 0x11e927c18>"
      ]
     },
     "metadata": {},
     "output_type": "display_data"
    }
   ],
   "source": [
    "x1, y1 = st.to_dotplot(res_diff_median[:120], kind=\"bins\", scale=0.05, nbins=20)\n",
    "\n",
    "#randomize order of each rows of data points\n",
    "rows_yval = np.unique(y1)\n",
    "idx_by_rows = [list(np.where(y1 == val)[0]) for val in rows_yval]\n",
    "for i in range(len(idx_by_rows)):\n",
    "    np.random.shuffle(idx_by_rows[i])\n",
    "shuffled_idx = np.concatenate(idx_by_rows)\n",
    "\n",
    "x1 = x1[shuffled_idx]\n",
    "y1 = y1[shuffled_idx]\n",
    "\n",
    "fig, ax1 = plt.subplots(figsize=(6, 4))\n",
    "ax2 = ax1.twinx()\n",
    "ax3 = ax1.twinx()\n",
    "ax4 = ax1.twinx()\n",
    "ax5 = ax1.twinx()\n",
    "ax6 = ax1.twinx()\n",
    "ax7 = ax1.twinx()\n",
    "ax8 = ax1.twinx()\n",
    "\n",
    "for ax in [ax1]:\n",
    "    for spine in [\"bottom\"]:\n",
    "        ax.spines[spine].set_linewidth(1)\n",
    "        ax.spines[spine].set_color(colors[\"lightgray\"])\n",
    "    for spine in [\"top\", \"right\", \"left\"]:\n",
    "        ax.spines[spine].set_visible(False)\n",
    "    ax.set_yticks([])\n",
    "    ax.tick_params(axis=\"both\", width=1, size=4, color=colors[\"lightgray\"], labelcolor=colors[\"lightgray\"], \n",
    "                   labelsize=13, pad=4)\n",
    "    ax.set_xlabel('$\\mathrm{m}_{\\mathrm{carbon}}-\\mathrm{m}_{\\mathrm{steel}}$ (min)', size=18, color=colors[\"lightgray\"])\n",
    "    ax.set_ylim(-0.02, 1.2)\n",
    "    ax.set_xlim(res_diff_median.min()-1, res_diff_median.max()+1)\n",
    "    ax.ticklabel_format(style='sci', axis='x', scilimits=(0,5))\n",
    "\n",
    "for ax in [ax2, ax3, ax4, ax5, ax6, ax7, ax8]:\n",
    "    ax.set_ylim(ax1.get_ylim())\n",
    "    ax.axis(\"off\")\n",
    "    \n",
    "for ax in [ax2]:\n",
    "    ax.scatter(x1[0], y1[0], s=50, color=colors[\"blue\"])\n",
    "\n",
    "for ax in [ax3]:\n",
    "    ax.scatter(x1[1], y1[1], s=50, color=colors[\"blue\"])\n",
    "\n",
    "for ax in [ax4]:\n",
    "    ax.scatter(x1[2], y1[2], s=50, color=colors[\"blue\"])\n",
    "\n",
    "for ax in [ax5]:\n",
    "    ax.scatter(x1[3:25], y1[3:25], color=colors[\"blue\"])\n",
    "\n",
    "for ax in [ax6]:\n",
    "    ax.scatter(x1[25:50], y1[25:50], color=colors[\"blue\"])\n",
    "\n",
    "for ax in [ax7]:\n",
    "    ax.scatter(x1[50:80], y1[50:80], color=colors[\"blue\"])\n",
    "\n",
    "for ax in [ax8]:\n",
    "    ax.scatter(x1[80:], y1[80:], color=colors[\"blue\"])\n",
    "\n",
    "plt.tight_layout()\n",
    "\n",
    "plt.savefig(\"/Users/Gui/Box Sync/_STATS13/_Slides/_stats13-Lectures/assets/img/lec/bike-commute-simulation-diff-median.svg\", transparent=True)"
   ]
  },
  {
   "cell_type": "markdown",
   "metadata": {},
   "source": [
    "### Full simulation (10000)"
   ]
  },
  {
   "cell_type": "code",
   "execution_count": 136,
   "metadata": {
    "collapsed": false
   },
   "outputs": [
    {
     "data": {
      "image/png": "[encoded data removed]",
      "text/plain": [
       "<matplotlib.figure.Figure at 0x11ebb1d30>"
      ]
     },
     "metadata": {},
     "output_type": "display_data"
    }
   ],
   "source": [
    "#Observed diff\n",
    "bike_diff_mean = data[data.Frame==\"carbon\"].Time.mean()-data[data.Frame==\"steel\"].Time.mean()\n",
    "bike_diff_mean_se = np.sqrt((data[data.Frame==\"carbon\"].Time.std()**2/n_bike_carbon)+(data[data.Frame==\"steel\"].Time.std()**2/n_bike_steel))\n",
    "\n",
    "#t distribution\n",
    "tdist_bike_diff = stats.t(df=len(data)-1, loc=0, scale=bike_diff_mean_se)\n",
    "xt_bike_diff = np.linspace(-6.5, 6.5, 1000)\n",
    "yt_bike_diff = tdist_bike_diff.pdf(xt_bike_diff)\n",
    "\n",
    "fig = plt.figure(figsize=(6,4))\n",
    "ax1 = fig.add_axes([0.1, 0.15, 0.82, 0.75])\n",
    "ax2 = ax1.twinx()\n",
    "ax3 = ax1.twinx()\n",
    "ax4 = ax1.twinx()\n",
    "ax5 = ax1.twinx()\n",
    "    \n",
    "for ax in [ax1]:\n",
    "    ax.hist(res_diff_mean, bins=\"auto\", color=colors[\"blue\"])\n",
    "    for spine in [\"bottom\"]:\n",
    "        ax.spines[spine].set_linewidth(1)\n",
    "        ax.spines[spine].set_color(colors[\"lightgray\"])\n",
    "    for spine in [\"top\", \"right\", \"left\"]:\n",
    "        ax.spines[spine].set_visible(False)\n",
    "    ax.set_yticks([])\n",
    "    ax.tick_params(axis=\"both\", width=1, size=4, color=colors[\"lightgray\"], labelcolor=colors[\"lightgray\"], \n",
    "                   labelsize=13, pad=4)\n",
    "    ax.set_xlabel(r'$\\bar{x}_{\\mathrm{carbon}}-\\bar{x}_{\\mathrm{steel}}$ (min)', size=18, color=colors[\"lightgray\"])\n",
    "    ax.set_xlim(xt_bike_diff.min(), xt_bike_diff.max())\n",
    "    ax.set_ylim(0)\n",
    "    \n",
    "for ax in [ax2]:\n",
    "    ax.set_ylim(ax1.get_ylim())\n",
    "    ax.axvline(bike_diff_mean, color=colors[\"red\"], ls=\"--\")\n",
    "    ax.text(bike_diff_mean, ax.get_ylim()[1]*1.01, \"Initial observation\\n\" r\"$\\bar{{x}}_{{\\mathrm{{carbon}}}}-\\bar{{x}}_{{\\mathrm{{steel}}}}={:.2f}$\".format(bike_diff_mean), color=colors[\"red\"], size=13, ha=\"left\")\n",
    "    ax.axis(\"off\")\n",
    "    \n",
    "for ax in [ax3]:\n",
    "    ax.set_ylim(ax1.get_ylim())\n",
    "    ax.axvline(0-bike_diff_mean, color=colors[\"red\"], ls=\"--\")\n",
    "    ax.text(bike_diff_mean+3.5, ax.get_ylim()[1]*0.5, \"{:.0f} simulations\\n$\\geq${:.2f}\".format(np.sum(res_diff_mean>=bike_diff_mean), bike_diff_mean), color=colors[\"lightgray\"], size=13, ha=\"center\")\n",
    "    ax.text(bike_diff_mean-4.5, ax.get_ylim()[1]*0.5, \"{:.0f} simulations\\n$\\leq${:.2f}\".format(np.sum(res_diff_mean<=0-bike_diff_mean), 0-bike_diff_mean), color=colors[\"lightgray\"], size=13, ha=\"center\")\n",
    "    n_extreme = np.sum(res_diff_mean<=0-bike_diff_mean)+np.sum(res_diff_mean>=bike_diff_mean)\n",
    "    ax.text(ax.get_xlim()[0], ax.get_ylim()[1]*1, \"2-tail p-value\\np = {:.3f}\".format(n_extreme/10000), color=colors[\"lightgray\"], size=13, ha=\"left\")\n",
    "    ax.axis(\"off\")\n",
    "\n",
    "for ax in [ax4]:\n",
    "    lower_lim = 0-bike_diff_mean\n",
    "    upper_lim = bike_diff_mean\n",
    "    ax.fill_between(xt_bike_diff, yt_bike_diff,\n",
    "                       color=colors[\"orange\"], alpha=0.7)\n",
    "    ax.set_ylim(0)\n",
    "    ax.axis(\"off\")\n",
    "\n",
    "for ax in [ax5]:\n",
    "    lower_lim = 0-bike_diff_mean\n",
    "    upper_lim = bike_diff_mean\n",
    "    ax.fill_between(xt_bike_diff[(xt_bike_diff>lower_lim) & (xt_bike_diff<upper_lim)], yt_bike_diff[(xt_bike_diff>lower_lim) & (xt_bike_diff<upper_lim)],\n",
    "                       color=colors[\"orange\"], alpha=0.7)\n",
    "    ax.fill_between(xt_bike_diff[(xt_bike_diff<=lower_lim)], yt_bike_diff[(xt_bike_diff<=lower_lim)],\n",
    "                       color=colors[\"red\"], alpha=0.7)\n",
    "    ax.fill_between(xt_bike_diff[(xt_bike_diff>=upper_lim)], yt_bike_diff[(xt_bike_diff>=upper_lim)],\n",
    "                       color=colors[\"red\"], alpha=0.7)\n",
    "    ax.set_ylim(0)\n",
    "    norm_pvalue_2tail = tdist_bike_diff.sf(0.53/bike_diff_mean_se)*2\n",
    "    ax.text(ax.get_xlim()[0], ax.get_ylim()[1]*0.76, \"2-tail p-value\\n(normal approximation)\\np = {:.3f}\".format(norm_pvalue_2tail), color=colors[\"lightgray\"], size=13, ha=\"left\")\n",
    "    ax.text(0.65, ax.get_ylim()[1]*0.91, \"$\\pi_0+t*\\sigma$\", color=colors[\"lightgray\"], size=13, ha=\"left\")\n",
    "    ax.axis(\"off\")\n",
    "\n",
    "\n",
    "plt.savefig(\"/Users/Gui/Box Sync/_STATS13/_Slides/_stats13-Lectures/assets/img/lec/bike-commute-simulation-diff-mean-all.svg\", transparent=True)"
   ]
  },
  {
   "cell_type": "code",
   "execution_count": 138,
   "metadata": {
    "collapsed": false
   },
   "outputs": [
    {
     "data": {
      "text/plain": [
       "0.34951163077089586"
      ]
     },
     "execution_count": 138,
     "metadata": {},
     "output_type": "execute_result"
    }
   ],
   "source": [
    "t_stat = (108.34-107.81)/np.sqrt(6.25**2/26+4.89**2/30)\n",
    "t_stat"
   ]
  },
  {
   "cell_type": "code",
   "execution_count": 125,
   "metadata": {
    "collapsed": false
   },
   "outputs": [
    {
     "data": {
      "image/png": "[encoded data removed]",
      "text/plain": [
       "<matplotlib.figure.Figure at 0x11e7cacc0>"
      ]
     },
     "metadata": {},
     "output_type": "display_data"
    }
   ],
   "source": [
    "#Observed diff\n",
    "bike_diff_median = data[data.Frame==\"carbon\"].Time.median()-data[data.Frame==\"steel\"].Time.median()\n",
    "\n",
    "fig = plt.figure(figsize=(6,4))\n",
    "ax1 = fig.add_axes([0.1, 0.15, 0.82, 0.75])\n",
    "ax2 = ax1.twinx()\n",
    "ax3 = ax1.twinx()\n",
    "    \n",
    "for ax in [ax1]:\n",
    "    ax.hist(res_diff_median, bins=\"auto\", color=colors[\"blue\"])\n",
    "    for spine in [\"bottom\"]:\n",
    "        ax.spines[spine].set_linewidth(1)\n",
    "        ax.spines[spine].set_color(colors[\"lightgray\"])\n",
    "    for spine in [\"top\", \"right\", \"left\"]:\n",
    "        ax.spines[spine].set_visible(False)\n",
    "    ax.set_yticks([])\n",
    "    ax.tick_params(axis=\"both\", width=1, size=4, color=colors[\"lightgray\"], labelcolor=colors[\"lightgray\"], \n",
    "                   labelsize=13, pad=4)\n",
    "    ax.set_xlabel('$\\mathrm{m}_{\\mathrm{carbon}}-\\mathrm{m}_{\\mathrm{steel}}$ (min)', size=18, color=colors[\"lightgray\"])\n",
    "    ax.set_xlim(-7, 7)\n",
    "    ax.set_ylim(0)\n",
    "    \n",
    "for ax in [ax2]:\n",
    "    ax.set_ylim(ax1.get_ylim())\n",
    "    ax.axvline(bike_diff_median, color=colors[\"orange\"], ls=\"--\")\n",
    "    ax.text(bike_diff_median, ax.get_ylim()[1]*1.01, \"Initial observation\\n\" \"$\\mathrm{{m}}_{{\\mathrm{{carbon}}}}-\\mathrm{{m}}_{{\\mathrm{{steel}}}}={:.2f}$\".format(bike_diff_median), color=colors[\"orange\"], size=13, ha=\"left\")\n",
    "    ax.axis(\"off\")\n",
    "    \n",
    "for ax in [ax3]:\n",
    "    ax.set_ylim(ax1.get_ylim())\n",
    "    ax.axvline(0-bike_diff_median, color=colors[\"orange\"], ls=\"--\")\n",
    "    ax.text(bike_diff_median+3.5, ax.get_ylim()[1]*0.5, \"{:.0f} simulations\\n$\\geq${:.2f}\".format(np.sum(res_diff_median>=bike_diff_median), bike_diff_median), color=colors[\"red\"], size=13, ha=\"center\")\n",
    "    ax.text(bike_diff_median-4.5, ax.get_ylim()[1]*0.5, \"{:.0f} simulations\\n$\\leq${:.2f}\".format(np.sum(res_diff_median<=0-bike_diff_median), 0-bike_diff_median), color=colors[\"red\"], size=13, ha=\"center\")\n",
    "    n_extreme = np.sum(res_diff_median<=0-bike_diff_median)+np.sum(res_diff_median>=bike_diff_median)\n",
    "    ax.text(ax.get_xlim()[0], ax.get_ylim()[1]*1, \"2-tail p-value\\np = {:.3f}\".format(n_extreme/10000), color=colors[\"orange\"], size=13, ha=\"left\")\n",
    "    ax.axis(\"off\")\n",
    "\n",
    "\n",
    "plt.savefig(\"/Users/Gui/Box Sync/_STATS13/_Slides/_stats13-Lectures/assets/img/lec/bike-commute-simulation-diff-median-all.svg\", transparent=True)"
   ]
  },
  {
   "cell_type": "markdown",
   "metadata": {},
   "source": [
    "## Simulation 95% confidence intervals"
   ]
  },
  {
   "cell_type": "code",
   "execution_count": 142,
   "metadata": {
    "collapsed": false
   },
   "outputs": [],
   "source": [
    "n_simul = 10000\n",
    "res_median = np.zeros(n_simul) #store the data\n",
    "\n",
    "n_bike_carbon = len(data[data.Frame==\"carbon\"])\n",
    "n_bike_steel = len(data[data.Frame==\"steel\"])\n",
    "\n",
    "#each simulation is the difference in median time from isolated bootstrap samples\n",
    "for i in range(n_simul):\n",
    "    bootstrap_carbon = np.random.choice(data[data.Frame==\"carbon\"].Time, size=n_bike_carbon)\n",
    "    bootstrap_steel = np.random.choice(data[data.Frame==\"steel\"].Time, size=n_bike_steel)\n",
    "    res_median[i] = np.median(bootstrap_carbon)-np.median(bootstrap_steel)"
   ]
  },
  {
   "cell_type": "code",
   "execution_count": 143,
   "metadata": {
    "collapsed": false
   },
   "outputs": [
    {
     "data": {
      "text/plain": [
       "(array([   48.,   298.,   775.,  1570.,  2488.,  2006.,  1730.,   803.,\n",
       "          241.,    41.]),\n",
       " array([-7.7166665 , -6.17583325, -4.635     , -3.09416675, -1.5533335 ,\n",
       "        -0.01250025,  1.528333  ,  3.06916625,  4.6099995 ,  6.15083275,\n",
       "         7.691666  ]),\n",
       " <a list of 10 Patch objects>)"
      ]
     },
     "execution_count": 143,
     "metadata": {},
     "output_type": "execute_result"
    },
    {
     "data": {
      "image/png": "[encoded data removed]",
      "text/plain": [
       "<matplotlib.figure.Figure at 0x11dab13c8>"
      ]
     },
     "metadata": {},
     "output_type": "display_data"
    }
   ],
   "source": [
    "plt.hist(res_median)"
   ]
  },
  {
   "cell_type": "code",
   "execution_count": null,
   "metadata": {
    "collapsed": true
   },
   "outputs": [],
   "source": []
  }
 ],
 "metadata": {
  "kernelspec": {
   "display_name": "Python 3",
   "language": "python",
   "name": "python3"
  },
  "language_info": {
   "codemirror_mode": {
    "name": "ipython",
    "version": 3
   },
   "file_extension": ".py",
   "mimetype": "text/x-python",
   "name": "python",
   "nbconvert_exporter": "python",
   "pygments_lexer": "ipython3",
   "version": "3.6.0"
  }
 },
 "nbformat": 4,
 "nbformat_minor": 2
}
