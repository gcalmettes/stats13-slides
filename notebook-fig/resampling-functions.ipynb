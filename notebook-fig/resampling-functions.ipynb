{
 "cells": [
  {
   "cell_type": "code",
   "execution_count": 1,
   "metadata": {
    "collapsed": true
   },
   "outputs": [],
   "source": [
    "import numpy as np"
   ]
  },
  {
   "cell_type": "markdown",
   "metadata": {},
   "source": [
    "# Resampling p-value - proportion"
   ]
  },
  {
   "cell_type": "code",
   "execution_count": 27,
   "metadata": {
    "collapsed": false
   },
   "outputs": [
    {
     "data": {
      "text/plain": [
       "0.057099999999999998"
      ]
     },
     "execution_count": 27,
     "metadata": {},
     "output_type": "execute_result"
    }
   ],
   "source": [
    "def pval_prop(n, success, null=0.5, nsimul=10000, tail=\"two\"):\n",
    "    phat = success/n\n",
    "    \n",
    "    res = np.zeros(nsimul)\n",
    "    for i in range(nsimul):\n",
    "        simul = np.random.rand(n)\n",
    "        res[i] = np.sum(simul<null)/n\n",
    "    \n",
    "    if phat>=null:\n",
    "        if tail==\"one\":\n",
    "            pval = np.sum(res>=phat)/nsimul\n",
    "        if tail==\"two\":\n",
    "            upper = np.sum(res>=phat)\n",
    "            lower = np.sum(res<=(null-(phat-null)))\n",
    "            pval=(upper+lower)/nsimul\n",
    "    else:\n",
    "        if tail==\"one\":\n",
    "            pval = np.sum(res<=phat)/nsimul\n",
    "        if tail==\"two\":\n",
    "            lower = np.sum(res<=phat)\n",
    "            upper = np.sum(res>=(null+(null-phat)))\n",
    "            pval=(lower+upper)/nsimul\n",
    "    return pval\n",
    "\n",
    "\n",
    "pval_prop(249, 140, null=0.5, tail=\"two\")"
   ]
  },
  {
   "cell_type": "markdown",
   "metadata": {
    "collapsed": true
   },
   "source": [
    "# Bootstrap Confidence Intervals - proportion"
   ]
  },
  {
   "cell_type": "code",
   "execution_count": 28,
   "metadata": {
    "collapsed": false
   },
   "outputs": [
    {
     "data": {
      "text/plain": [
       "[0.50200803212851408, 0.6224899598393574]"
      ]
     },
     "execution_count": 28,
     "metadata": {},
     "output_type": "execute_result"
    }
   ],
   "source": [
    "def ci_prop(n, success, nsimul=10000, alpha=0.05):\n",
    "    phat = success/n\n",
    "    \n",
    "    population = np.zeros(n)\n",
    "    population[:success] = 1\n",
    "    \n",
    "    bootstrap_sample_idx = np.random.randint(low=0, high=n, size=(nsimul, n))\n",
    "    bootstrap_sample_prop = population[bootstrap_sample_idx].mean(axis=1)\n",
    "    \n",
    "    return [np.percentile(bootstrap_sample_prop, (alpha/2)*100), np.percentile(bootstrap_sample_prop, (1-alpha/2)*100)]\n",
    "\n",
    "ci_prop(249, 140)"
   ]
  },
  {
   "cell_type": "markdown",
   "metadata": {
    "collapsed": false
   },
   "source": [
    "# Bootstrap samples"
   ]
  },
  {
   "cell_type": "code",
   "execution_count": 2,
   "metadata": {
    "collapsed": true
   },
   "outputs": [],
   "source": [
    "def bootstrap_sample(data, nboot=10000):\n",
    "    data=np.ravel(data)\n",
    "    idx = np.random.randint(data.size, size=(nboot, data.size))\n",
    "    return data[idx]"
   ]
  },
  {
   "cell_type": "code",
   "execution_count": null,
   "metadata": {
    "collapsed": true
   },
   "outputs": [],
   "source": []
  }
 ],
 "metadata": {
  "kernelspec": {
   "display_name": "Python 3",
   "language": "python",
   "name": "python3"
  },
  "language_info": {
   "codemirror_mode": {
    "name": "ipython",
    "version": 3
   },
   "file_extension": ".py",
   "mimetype": "text/x-python",
   "name": "python",
   "nbconvert_exporter": "python",
   "pygments_lexer": "ipython3",
   "version": "3.6.0"
  }
 },
 "nbformat": 4,
 "nbformat_minor": 2
}
