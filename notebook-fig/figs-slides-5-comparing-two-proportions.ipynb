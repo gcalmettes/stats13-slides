{
 "cells": [
  {
   "cell_type": "code",
   "execution_count": 1,
   "metadata": {
    "collapsed": false,
    "deletable": true,
    "editable": true
   },
   "outputs": [],
   "source": [
    "import numpy as np\n",
    "import matplotlib.pyplot as plt\n",
    "import matplotlib as mpl\n",
    "import pandas as pd\n",
    "import re\n",
    "import scipy as sp\n",
    "import scipy.stats as stats\n",
    "from scipy.interpolate import interp1d\n",
    "\n",
    "import stats13tools.stats13tools as st\n",
    "\n",
    "%matplotlib inline"
   ]
  },
  {
   "cell_type": "code",
   "execution_count": 2,
   "metadata": {
    "collapsed": true,
    "deletable": true,
    "editable": true
   },
   "outputs": [],
   "source": [
    "colors = {\"orange\": \"#f0ad4e\",\n",
    "          \"red\": \"#d9534f\",\n",
    "          \"blue\": \"#5bc0de\",\n",
    "          \"green\": \"#5cb85c\",\n",
    "          \"gray\": \"#636c72\",\n",
    "          \"lightgray\": \"#d2d2d2\"\n",
    "         }"
   ]
  },
  {
   "cell_type": "markdown",
   "metadata": {},
   "source": [
    "# The Gilbert's case"
   ]
  },
  {
   "cell_type": "markdown",
   "metadata": {},
   "source": [
    "## Shifts data"
   ]
  },
  {
   "cell_type": "code",
   "execution_count": 3,
   "metadata": {
    "collapsed": false
   },
   "outputs": [
    {
     "data": {
      "image/png": "[encoded data removed]",
      "text/plain": [
       "<matplotlib.figure.Figure at 0x11caf9d68>"
      ]
     },
     "metadata": {},
     "output_type": "display_data"
    }
   ],
   "source": [
    "shifts = pd.read_csv(\"data-src/gilbert-data.csv\")\n",
    "shifts.index = shifts.year\n",
    "shifts[shifts.columns[1:]].plot(kind=\"bar\");"
   ]
  },
  {
   "cell_type": "code",
   "execution_count": 193,
   "metadata": {
    "collapsed": false
   },
   "outputs": [
    {
     "data": {
      "image/png": "[encoded data removed]",
      "text/plain": [
       "<matplotlib.figure.Figure at 0x117ab0668>"
      ]
     },
     "metadata": {},
     "output_type": "display_data"
    }
   ],
   "source": [
    "fig,ax1 = plt.subplots(figsize=(8,4))\n",
    "ax2 = ax1.twinx()\n",
    "\n",
    "width=0.6\n",
    "scale = 3.\n",
    "\n",
    "colors_list = [\"red\", \"blue\", \"orange\"]\n",
    "labels_list = [\"Night\", \"Day\", \"Evening\"]\n",
    "xpos = np.arange(len(shifts.year))*scale\n",
    "\n",
    "for i,shift in enumerate(shifts.columns[1:]):\n",
    "    ax1.bar(xpos+width*i, shifts[shift], width=width, color=colors[colors_list[i]], label=labels_list[i]);\n",
    "    \n",
    "for spine in [\"bottom\", \"left\"]:\n",
    "    ax1.spines[spine].set_linewidth(1)\n",
    "    ax1.spines[spine].set_color(colors[\"lightgray\"])\n",
    "for spine in [\"top\", \"right\"]:\n",
    "    ax1.spines[spine].set_visible(False)\n",
    "\n",
    "for ax in [ax1]:\n",
    "    ax.set_xticks(xpos+width)\n",
    "    ax.set_xticklabels(shifts.year)\n",
    "    ax.set_ylim(0)\n",
    "    ax.tick_params(axis=\"y\", width=1, size=4, color=colors[\"lightgray\"], labelcolor=colors[\"lightgray\"], \n",
    "                   labelsize=13, pad=4)\n",
    "    ax.tick_params(axis=\"x\", size=0, labelcolor=colors[\"lightgray\"], \n",
    "                   labelsize=13, pad=4)\n",
    "    ax.set_xlabel(\"Year\", size=16, color=colors[\"lightgray\"])\n",
    "    ax.set_ylabel(\"Number of deaths\", size=16, color=colors[\"lightgray\"])\n",
    "    legend = ax.legend(prop=dict(size=14), loc=\"upper left\", frameon=True, facecolor=\"none\",\n",
    "                      bbox_to_anchor=(0, 1.05))\n",
    "    for text in legend.get_texts():\n",
    "        text.set_color(colors[\"lightgray\"])\n",
    "        \n",
    "for ax in [ax2]:\n",
    "    ax2.axis(\"off\")\n",
    "    ax.axvspan(xpos[2]-1.5*width, xpos[8]-1.5*width, alpha=0.5, color=colors[\"gray\"])\n",
    "    ax.text(xpos[2]-1.5*width+(xpos[8]-1.5*width-xpos[2]-1.5*width)/2, \n",
    "            ax.get_ylim()[1]*0.9, \"Gilbert's time at the VA\", color=colors[\"lightgray\"], \n",
    "           ha=\"center\", size=16)\n",
    "    \n",
    "plt.tight_layout()\n",
    "    \n",
    "plt.savefig(\"/Users/Gui/Box Sync/_STATS13/_Slides/_stats13-Lectures/assets/img/lec/gilbert-case-shifts-pattern.svg\", transparent=True)"
   ]
  },
  {
   "cell_type": "markdown",
   "metadata": {},
   "source": [
    "## Relative risk"
   ]
  },
  {
   "cell_type": "code",
   "execution_count": 4,
   "metadata": {
    "collapsed": false
   },
   "outputs": [
    {
     "data": {
      "text/html": [
       "<div>\n",
       "<table border=\"1\" class=\"dataframe\">\n",
       "  <thead>\n",
       "    <tr style=\"text-align: right;\">\n",
       "      <th></th>\n",
       "      <th>shift_gilbert</th>\n",
       "      <th>shift_no_gilbert</th>\n",
       "    </tr>\n",
       "  </thead>\n",
       "  <tbody>\n",
       "    <tr>\n",
       "      <th>death</th>\n",
       "      <td>40</td>\n",
       "      <td>34</td>\n",
       "    </tr>\n",
       "    <tr>\n",
       "      <th>no_death</th>\n",
       "      <td>217</td>\n",
       "      <td>1350</td>\n",
       "    </tr>\n",
       "  </tbody>\n",
       "</table>\n",
       "</div>"
      ],
      "text/plain": [
       "          shift_gilbert  shift_no_gilbert\n",
       "death                40                34\n",
       "no_death            217              1350"
      ]
     },
     "execution_count": 4,
     "metadata": {},
     "output_type": "execute_result"
    }
   ],
   "source": [
    "data = pd.DataFrame({\"shift_gilbert\": [40, 217],\n",
    "                     \"shift_no_gilbert\": [34, 1350]}, index=[\"death\", \"no_death\"])\n",
    "data"
   ]
  },
  {
   "cell_type": "code",
   "execution_count": null,
   "metadata": {
    "collapsed": false
   },
   "outputs": [],
   "source": []
  },
  {
   "cell_type": "code",
   "execution_count": 5,
   "metadata": {
    "collapsed": false
   },
   "outputs": [
    {
     "data": {
      "text/plain": [
       "death       0.155642\n",
       "no_death    0.844358\n",
       "Name: shift_gilbert, dtype: float64"
      ]
     },
     "execution_count": 5,
     "metadata": {},
     "output_type": "execute_result"
    }
   ],
   "source": [
    "data.shift_gilbert/data.shift_gilbert.sum()"
   ]
  },
  {
   "cell_type": "code",
   "execution_count": 6,
   "metadata": {
    "collapsed": false
   },
   "outputs": [
    {
     "data": {
      "text/plain": [
       "death       0.024566\n",
       "no_death    0.975434\n",
       "Name: shift_no_gilbert, dtype: float64"
      ]
     },
     "execution_count": 6,
     "metadata": {},
     "output_type": "execute_result"
    }
   ],
   "source": [
    "data.shift_no_gilbert/data.shift_no_gilbert.sum()"
   ]
  },
  {
   "cell_type": "code",
   "execution_count": 58,
   "metadata": {
    "collapsed": false
   },
   "outputs": [
    {
     "name": "stdout",
     "output_type": "stream",
     "text": [
      "Relative risk: 6.33555\n"
     ]
    }
   ],
   "source": [
    "rr = (data.shift_gilbert/data.shift_gilbert.sum()).death/(data.shift_no_gilbert/data.shift_no_gilbert.sum()).death\n",
    "print(\"Relative risk: {:.5f}\".format(rr))"
   ]
  },
  {
   "cell_type": "code",
   "execution_count": 8,
   "metadata": {
    "collapsed": false
   },
   "outputs": [
    {
     "data": {
      "image/png": "[encoded data removed]",
      "text/plain": [
       "<matplotlib.figure.Figure at 0x11eea6d30>"
      ]
     },
     "metadata": {},
     "output_type": "display_data"
    }
   ],
   "source": [
    "fig,(ax1, ax2) = plt.subplots(ncols=2, figsize=(10,4))\n",
    "\n",
    "\n",
    "ax1.bar(np.arange(2), data.ix[\"death\"], color=colors['red'], label=\"Death\");\n",
    "ax1.bar(np.arange(2), data.ix[\"no_death\"], bottom=data.ix[\"death\"], color=colors['blue'], label=\"No death\");\n",
    "\n",
    "ax2.bar(np.arange(2), data.ix[\"death\"]/data.sum(), color=colors['red']);\n",
    "ax2.bar(np.arange(2), data.ix[\"no_death\"]/data.sum(), bottom=data.ix[\"death\"]/data.sum(), color=colors['blue']);\n",
    "\n",
    "\n",
    "for ax in [ax1, ax2]:\n",
    "    for spine in [\"bottom\", \"left\"]:\n",
    "        ax.spines[spine].set_linewidth(1)\n",
    "        ax.spines[spine].set_color(colors[\"lightgray\"])\n",
    "    for spine in [\"top\", \"right\"]:\n",
    "        ax.spines[spine].set_visible(False)\n",
    "    ax.set_xticks(np.arange(2))\n",
    "    ax.set_xticklabels([\"Gilbert present\", \"Gilbert absent\"])\n",
    "    ax.set_ylim(0)\n",
    "    ax.tick_params(axis=\"y\", width=1, size=4, color=colors[\"lightgray\"], labelcolor=colors[\"lightgray\"], \n",
    "                   labelsize=13, pad=4)\n",
    "    ax.tick_params(axis=\"x\", size=0, labelcolor=colors[\"lightgray\"], \n",
    "                   labelsize=15, pad=6)\n",
    "    ax.set_xlim(-0.6, 1.6)\n",
    "    ax.set_xlabel(\"Shifts\", size=16, color=colors[\"lightgray\"])\n",
    "    \n",
    "for ax in [ax1]:\n",
    "    ax.set_ylabel(\"Number of shifts\", size=16, color=colors[\"lightgray\"])\n",
    "    legend = ax.legend(prop=dict(size=14), loc=\"upper left\", frameon=True, facecolor=\"none\",\n",
    "                      bbox_to_anchor=(0, 1.05))\n",
    "    for text in legend.get_texts():\n",
    "        text.set_color(colors[\"lightgray\"])\n",
    "\n",
    "for ax in [ax2]:\n",
    "    ax.set_ylabel(\"Proportion of shifts\", size=16, color=colors[\"lightgray\"])\n",
    "\n",
    "        \n",
    "plt.tight_layout()\n",
    "\n",
    "    \n",
    "plt.savefig(\"/Users/Gui/Box Sync/_STATS13/_Slides/_stats13-Lectures/assets/img/lec/gilbert-case-death-pattern-during-shifts.svg\", transparent=True)"
   ]
  },
  {
   "cell_type": "markdown",
   "metadata": {},
   "source": [
    "# Null hypothesis testing (Shuffling)"
   ]
  },
  {
   "cell_type": "code",
   "execution_count": 9,
   "metadata": {
    "collapsed": false
   },
   "outputs": [
    {
     "data": {
      "text/html": [
       "<div>\n",
       "<table border=\"1\" class=\"dataframe\">\n",
       "  <thead>\n",
       "    <tr style=\"text-align: right;\">\n",
       "      <th></th>\n",
       "      <th>shift_gilbert</th>\n",
       "      <th>shift_no_gilbert</th>\n",
       "    </tr>\n",
       "  </thead>\n",
       "  <tbody>\n",
       "    <tr>\n",
       "      <th>death</th>\n",
       "      <td>40</td>\n",
       "      <td>34</td>\n",
       "    </tr>\n",
       "    <tr>\n",
       "      <th>no_death</th>\n",
       "      <td>217</td>\n",
       "      <td>1350</td>\n",
       "    </tr>\n",
       "  </tbody>\n",
       "</table>\n",
       "</div>"
      ],
      "text/plain": [
       "          shift_gilbert  shift_no_gilbert\n",
       "death                40                34\n",
       "no_death            217              1350"
      ]
     },
     "execution_count": 9,
     "metadata": {},
     "output_type": "execute_result"
    }
   ],
   "source": [
    "data"
   ]
  },
  {
   "cell_type": "code",
   "execution_count": 10,
   "metadata": {
    "collapsed": false
   },
   "outputs": [
    {
     "name": "stdout",
     "output_type": "stream",
     "text": [
      "Total number of shifts: 1641\n",
      "Proportion of shifts for which death occured: 0.04509445460085314\n"
     ]
    }
   ],
   "source": [
    "print(\"Total number of shifts: {}\".format(data.values.sum()))\n",
    "print(\"Proportion of shifts for which death occured: {}\".format(data.ix[\"death\"].sum()/data.values.sum()))"
   ]
  },
  {
   "cell_type": "markdown",
   "metadata": {},
   "source": [
    "#### If death was equally likely to happen during the shifts with and without Gilbert present, then the proportion of shifts with death should be the same for both conditions"
   ]
  },
  {
   "cell_type": "code",
   "execution_count": 15,
   "metadata": {
    "collapsed": true
   },
   "outputs": [],
   "source": [
    "#the population is all the shifts, with as many 1 as shift with death\n",
    "all_shifts = np.zeros(data.values.sum())\n",
    "all_shifts[:data.ix[\"no_death\"].sum()]=1\n",
    "\n",
    "#initial observed statistic (difference in relative proportions)\n",
    "diff_init = data.ix[\"death\"].shift_gilbert/data.shift_gilbert.sum()-data.ix[\"death\"].shift_no_gilbert/data.shift_no_gilbert.sum()"
   ]
  },
  {
   "cell_type": "code",
   "execution_count": 12,
   "metadata": {
    "collapsed": true
   },
   "outputs": [],
   "source": [
    "n_simul = 10000\n",
    "res_diff = np.zeros(n_simul) #store the data\n",
    "res_relativerisk = np.zeros(n_simul) #store the data\n",
    "n_shift_gilbert = data.shift_gilbert.sum() #number of shifts with Gilbert present\n",
    "n_shift_no_gilbert = data.shift_no_gilbert.sum() #number of shifts without Gilbert present\n",
    "\n",
    "#each simulation is the shuffling of the full population and the\n",
    "#calculation of the difference in proportion of shifts with death\n",
    "for i in range(n_simul):\n",
    "    np.random.shuffle(all_shifts)\n",
    "    with_gilbert = all_shifts[:n_shift_gilbert]\n",
    "    without_gilbert = all_shifts[n_shift_gilbert:]\n",
    "    deathprop_with_gilbert = np.sum(with_gilbert)/n_shift_gilbert\n",
    "    deathprop_without_gilbert = np.sum(without_gilbert)/n_shift_no_gilbert\n",
    "    difference = deathprop_with_gilbert-deathprop_without_gilbert\n",
    "    relativerisk = deathprop_with_gilbert/deathprop_without_gilbert\n",
    "    res_diff[i] = difference\n",
    "    res_relativerisk[i] = relativerisk"
   ]
  },
  {
   "cell_type": "code",
   "execution_count": 38,
   "metadata": {
    "collapsed": false
   },
   "outputs": [
    {
     "data": {
      "text/plain": [
       "257"
      ]
     },
     "execution_count": 38,
     "metadata": {},
     "output_type": "execute_result"
    }
   ],
   "source": [
    "data.shift_gilbert.sum()"
   ]
  },
  {
   "cell_type": "code",
   "execution_count": 44,
   "metadata": {
    "collapsed": false
   },
   "outputs": [
    {
     "data": {
      "image/png": "[encoded data removed]",
      "text/plain": [
       "<matplotlib.figure.Figure at 0x11fcdbeb8>"
      ]
     },
     "metadata": {},
     "output_type": "display_data"
    }
   ],
   "source": [
    "fig = plt.figure(figsize=(10,4))\n",
    "ax1 = fig.add_axes([0.1, 0.15, 0.82, 0.75])\n",
    "ax2 = ax1.twinx()\n",
    "ax3 = ax1.twinx()\n",
    "ax4 = ax1.twinx()\n",
    "    \n",
    "for ax in [ax1]:\n",
    "    ax.hist(res_diff, bins=\"auto\", color=colors[\"blue\"])\n",
    "    for spine in [\"bottom\"]:\n",
    "        ax.spines[spine].set_linewidth(1)\n",
    "        ax.spines[spine].set_color(colors[\"lightgray\"])\n",
    "    for spine in [\"top\", \"right\", \"left\"]:\n",
    "        ax.spines[spine].set_visible(False)\n",
    "    ax.set_yticks([])\n",
    "    ax.tick_params(axis=\"both\", width=1, size=4, color=colors[\"lightgray\"], labelcolor=colors[\"lightgray\"], \n",
    "                   labelsize=13, pad=4)\n",
    "    ax.text(0, -250, '$\\hat{p}_{\\mathrm{present}}-\\hat{p}_{\\mathrm{absent}}$', size=18, color=colors[\"lightgray\"], ha=\"center\")\n",
    "    ax.set_ylim(0)\n",
    "    ax.set_xlim(-0.08, 0.18)\n",
    "    \n",
    "for ax in [ax2]:\n",
    "    ax.axvline(diff_init, color=colors[\"orange\"])\n",
    "    ax.text(diff_init-0.005, ax.get_ylim()[1]*0.85, \"Observed statistic\\n{:.3f}\".format(diff_init), size=14, color=colors[\"orange\"], ha=\"right\")\n",
    "\n",
    "for ax in [ax3]:\n",
    "    ax.text(diff_init+0.01, ax.get_ylim()[1]*0.5, \"{:.0f} simulations\\n(p-value<0.0001)\".format(np.sum(res_diff>diff_init)), size=14, color=colors[\"lightgray\"], ha=\"left\")\n",
    "    \n",
    "    \n",
    "for ax in [ax4]:\n",
    "    ax.axis(\"off\")\n",
    "    #normal\n",
    "    norm_mu = 0\n",
    "    pooled_p = data.ix[\"death\"].sum()/data.values.sum()\n",
    "    p1 = (data.shift_gilbert/data.shift_gilbert.sum()).death\n",
    "    p2 = (data.shift_no_gilbert/data.shift_no_gilbert.sum()).death\n",
    "    norm_sigma = np.sqrt((pooled_p*(1-pooled_p))*(1/data.shift_gilbert.sum()+1/data.shift_no_gilbert.sum()))\n",
    "    x = np.linspace(-0.1,0.1,100)\n",
    "    ynorm = stats.norm.pdf(x, norm_mu, norm_sigma)\n",
    "    ax.fill_between(x, ynorm, color=colors[\"red\"], alpha=0.7)\n",
    "    ax.set_ylim(0)\n",
    "\n",
    "\n",
    "    \n",
    "    \n",
    "for ax in [ax2, ax3]:\n",
    "    ax.set_ylim(0)\n",
    "    ax.axis(\"off\")\n",
    "\n",
    "plt.savefig(\"/Users/Gui/Box Sync/_STATS13/_Slides/_stats13-Lectures/assets/img/lec/gilbert-case-resampling-differences.svg\", transparent=True)"
   ]
  },
  {
   "cell_type": "code",
   "execution_count": 36,
   "metadata": {
    "collapsed": false
   },
   "outputs": [
    {
     "data": {
      "text/html": [
       "<div>\n",
       "<table border=\"1\" class=\"dataframe\">\n",
       "  <thead>\n",
       "    <tr style=\"text-align: right;\">\n",
       "      <th></th>\n",
       "      <th>shift_gilbert</th>\n",
       "      <th>shift_no_gilbert</th>\n",
       "    </tr>\n",
       "  </thead>\n",
       "  <tbody>\n",
       "    <tr>\n",
       "      <th>death</th>\n",
       "      <td>40</td>\n",
       "      <td>34</td>\n",
       "    </tr>\n",
       "    <tr>\n",
       "      <th>no_death</th>\n",
       "      <td>217</td>\n",
       "      <td>1350</td>\n",
       "    </tr>\n",
       "  </tbody>\n",
       "</table>\n",
       "</div>"
      ],
      "text/plain": [
       "          shift_gilbert  shift_no_gilbert\n",
       "death                40                34\n",
       "no_death            217              1350"
      ]
     },
     "execution_count": 36,
     "metadata": {},
     "output_type": "execute_result"
    }
   ],
   "source": [
    "data"
   ]
  },
  {
   "cell_type": "code",
   "execution_count": 253,
   "metadata": {
    "collapsed": false
   },
   "outputs": [
    {
     "data": {
      "image/png": "[encoded data removed]",
      "text/plain": [
       "<matplotlib.figure.Figure at 0x119498cc0>"
      ]
     },
     "metadata": {},
     "output_type": "display_data"
    }
   ],
   "source": [
    "fig = plt.figure(figsize=(6,4))\n",
    "ax1 = fig.add_axes([0.1, 0.15, 0.82, 0.75])\n",
    "ax2 = ax1.twinx()\n",
    "ax3 = ax1.twinx()\n",
    "    \n",
    "for ax in [ax1]:\n",
    "    ax.hist(res_relativerisk, bins=\"auto\", color=colors[\"blue\"])\n",
    "    for spine in [\"bottom\"]:\n",
    "        ax.spines[spine].set_linewidth(1)\n",
    "        ax.spines[spine].set_color(colors[\"lightgray\"])\n",
    "    for spine in [\"top\", \"right\", \"left\"]:\n",
    "        ax.spines[spine].set_visible(False)\n",
    "    ax.set_yticks([])\n",
    "    ax.tick_params(axis=\"both\", width=1, size=4, color=colors[\"lightgray\"], labelcolor=colors[\"lightgray\"], \n",
    "                   labelsize=13, pad=4)\n",
    "    ax.text(1, -250, 'Relative risk', size=18, color=colors[\"lightgray\"], ha=\"center\")\n",
    "    ax.set_ylim(0)\n",
    "    #ax.set_xlim(0.85, 7)\n",
    "    \n",
    "#for ax in [ax2]:\n",
    "#    ax.axvline(rr, color=colors[\"orange\"])\n",
    "\n",
    "for ax in [ax2, ax3]:\n",
    "    ax.set_ylim(0)\n",
    "    ax.axis(\"off\")\n",
    "\n",
    "#plt.savefig(\"/Users/Gui/Box Sync/_STATS13/_Slides/_stats13-Lectures/assets/img/lec/salaries-ucla2014-resampling-ttest.svg\", transparent=True)"
   ]
  },
  {
   "cell_type": "markdown",
   "metadata": {},
   "source": [
    "## Z test"
   ]
  },
  {
   "cell_type": "code",
   "execution_count": 48,
   "metadata": {
    "collapsed": false
   },
   "outputs": [
    {
     "data": {
      "text/plain": [
       "9.2995134253998479"
      ]
     },
     "execution_count": 48,
     "metadata": {},
     "output_type": "execute_result"
    }
   ],
   "source": [
    "z = ((40/257)-(34/1384))/np.sqrt((74/1641)*(1-74/1641)*(1/257+1/1384))\n",
    "z"
   ]
  },
  {
   "cell_type": "markdown",
   "metadata": {
    "collapsed": false
   },
   "source": [
    "# Confidence intervals of RR"
   ]
  },
  {
   "cell_type": "code",
   "execution_count": 51,
   "metadata": {
    "collapsed": true
   },
   "outputs": [],
   "source": [
    "#we keep the two groups separated and draw bootstrap samples from them\n",
    "population_gilbert = np.zeros(data.shift_gilbert.sum())\n",
    "population_gilbert[:data.shift_gilbert.death] = 1\n",
    "population_no_gilbert = np.zeros(data.shift_no_gilbert.sum())\n",
    "population_no_gilbert[:data.shift_no_gilbert.death] = 1\n",
    "\n",
    "n_simul = 10000\n",
    "res_diff = np.zeros(n_simul) #store the data\n",
    "res_relativerisk = np.zeros(n_simul) #store the data\n",
    "n_shift_gilbert = data.shift_gilbert.sum() #number of shifts with Gilbert present\n",
    "n_shift_no_gilbert = data.shift_no_gilbert.sum() #number of shifts without Gilbert present\n",
    "\n",
    "#each simulation is the separate bootstrap drawing from the two groups\n",
    "#calculation of the statistic\n",
    "for i in range(n_simul):\n",
    "    sample_gilbert = np.random.choice(population_gilbert, size=n_shift_gilbert)\n",
    "    sample_no_gilbert = np.random.choice(population_no_gilbert, size=n_shift_no_gilbert)\n",
    "    deathprop_with_gilbert = np.sum(sample_gilbert)/n_shift_gilbert\n",
    "    deathprop_without_gilbert = np.sum(sample_no_gilbert)/n_shift_no_gilbert\n",
    "    difference = deathprop_with_gilbert-deathprop_without_gilbert\n",
    "    relativerisk = deathprop_with_gilbert/deathprop_without_gilbert\n",
    "    res_diff[i] = difference\n",
    "    res_relativerisk[i] = relativerisk"
   ]
  },
  {
   "cell_type": "code",
   "execution_count": 69,
   "metadata": {
    "collapsed": false
   },
   "outputs": [
    {
     "data": {
      "image/png": "[encoded data removed]",
      "text/plain": [
       "<matplotlib.figure.Figure at 0x11f867f28>"
      ]
     },
     "metadata": {},
     "output_type": "display_data"
    }
   ],
   "source": [
    "fig = plt.figure(figsize=(6,4))\n",
    "ax1 = fig.add_axes([0.03, 0.15, 0.9, 0.75])\n",
    "ax2 = ax1.twinx()\n",
    "ax3 = ax1.twinx()\n",
    "    \n",
    "for ax in [ax1]:\n",
    "    ax.hist(res_relativerisk, bins=\"auto\", color=colors[\"blue\"])\n",
    "    for spine in [\"bottom\"]:\n",
    "        ax.spines[spine].set_linewidth(1)\n",
    "        ax.spines[spine].set_color(colors[\"lightgray\"])\n",
    "    for spine in [\"top\", \"right\", \"left\"]:\n",
    "        ax.spines[spine].set_visible(False)\n",
    "    ax.set_yticks([])\n",
    "    ax.tick_params(axis=\"both\", width=1, size=4, color=colors[\"lightgray\"], labelcolor=colors[\"lightgray\"], \n",
    "                   labelsize=13, pad=4)\n",
    "    ax.set_xlabel(\"Relative risk\", size=18, color=colors[\"lightgray\"], ha=\"center\")\n",
    "    ax.set_ylim(0)\n",
    "    #ax.set_xlim(0.85, 7)\n",
    "    \n",
    "for ax in [ax2]:\n",
    "    ax.axvline(rr, color=colors[\"orange\"], ymax=0.95)\n",
    "    ax.text(rr, ax.get_ylim()[1]*1, \"Observed statistic\\n{:.2f}\".format(rr), size=14, color=colors[\"orange\"], ha=\"center\")\n",
    "\n",
    "for ax in [ax3]:\n",
    "    ax.axvline(np.percentile(res_relativerisk, 2.5), ymax=0.55, color=colors[\"red\"], lw=2)\n",
    "    ax.axvline(np.percentile(res_relativerisk, 97.5), ymax=0.55, color=colors[\"red\"], lw=2)\n",
    "    ax.text(np.percentile(res_relativerisk, 2.5), ax.get_ylim()[1]*0.6, \"2.5$^{{th}}$\\npercentile\\n{:.2f}\".format(np.percentile(res_relativerisk, 2.5)), color=colors[\"red\"], size=15, ha=\"center\")\n",
    "    ax.text(np.percentile(res_relativerisk, 97.5), ax.get_ylim()[1]*0.6, \"97.5$^{{th}}$\\npercentile\\n{:.2f}\".format(np.percentile(res_relativerisk, 97.5)), color=colors[\"red\"], size=15, ha=\"center\")\n",
    "\n",
    "\n",
    "for ax in [ax2, ax3]:\n",
    "    ax.set_ylim(0)\n",
    "    ax.axis(\"off\")\n",
    "\n",
    "\n",
    "plt.savefig(\"/Users/Gui/Box Sync/_STATS13/_Slides/_stats13-Lectures/assets/img/lec/gilbert-case-resampling-relativerisk-ci95.svg\", transparent=True)"
   ]
  },
  {
   "cell_type": "markdown",
   "metadata": {
    "collapsed": false
   },
   "source": [
    "# Oklahoma City Thunder (NBA team)"
   ]
  },
  {
   "cell_type": "code",
   "execution_count": 3,
   "metadata": {
    "collapsed": false
   },
   "outputs": [
    {
     "data": {
      "text/html": [
       "<div>\n",
       "<table border=\"1\" class=\"dataframe\">\n",
       "  <thead>\n",
       "    <tr style=\"text-align: right;\">\n",
       "      <th></th>\n",
       "      <th>no_sellout</th>\n",
       "      <th>sellout</th>\n",
       "    </tr>\n",
       "  </thead>\n",
       "  <tbody>\n",
       "    <tr>\n",
       "      <th>win</th>\n",
       "      <td>12</td>\n",
       "      <td>3</td>\n",
       "    </tr>\n",
       "    <tr>\n",
       "      <th>loss</th>\n",
       "      <td>11</td>\n",
       "      <td>15</td>\n",
       "    </tr>\n",
       "  </tbody>\n",
       "</table>\n",
       "</div>"
      ],
      "text/plain": [
       "      no_sellout  sellout\n",
       "win           12        3\n",
       "loss          11       15"
      ]
     },
     "execution_count": 3,
     "metadata": {},
     "output_type": "execute_result"
    }
   ],
   "source": [
    "data = pd.DataFrame({\"sellout\": [3, 15],\n",
    "                     \"no_sellout\": [12, 11]}, index=[\"win\", \"loss\"])\n",
    "data"
   ]
  },
  {
   "cell_type": "code",
   "execution_count": 7,
   "metadata": {
    "collapsed": false
   },
   "outputs": [
    {
     "data": {
      "text/html": [
       "<div>\n",
       "<table border=\"1\" class=\"dataframe\">\n",
       "  <thead>\n",
       "    <tr style=\"text-align: right;\">\n",
       "      <th></th>\n",
       "      <th>no_sellout</th>\n",
       "      <th>sellout</th>\n",
       "    </tr>\n",
       "  </thead>\n",
       "  <tbody>\n",
       "    <tr>\n",
       "      <th>win</th>\n",
       "      <td>0.521739</td>\n",
       "      <td>0.166667</td>\n",
       "    </tr>\n",
       "    <tr>\n",
       "      <th>loss</th>\n",
       "      <td>0.478261</td>\n",
       "      <td>0.833333</td>\n",
       "    </tr>\n",
       "  </tbody>\n",
       "</table>\n",
       "</div>"
      ],
      "text/plain": [
       "      no_sellout   sellout\n",
       "win     0.521739  0.166667\n",
       "loss    0.478261  0.833333"
      ]
     },
     "execution_count": 7,
     "metadata": {},
     "output_type": "execute_result"
    }
   ],
   "source": [
    "data_r = data/data.sum()\n",
    "data_r"
   ]
  },
  {
   "cell_type": "code",
   "execution_count": 84,
   "metadata": {
    "collapsed": false
   },
   "outputs": [],
   "source": [
    "relativerisk = data_r.no_sellout.win/data_r.sellout.win #3.13 times more likely to win if no sell out\n",
    "all_games = np.zeros(data.values.sum())\n",
    "all_games[:data.ix[\"win\"].sum()]=1\n",
    "\n",
    "n_simul = 10000\n",
    "res_relativerisk = np.zeros(n_simul) #store the data\n",
    "n_sellout = data.sellout.sum() #number of sell out crowd games\n",
    "n_no_sellout = data.no_sellout.sum() #number of no sell out crowd games\n",
    "\n",
    "#each simulation is the shuffling of the full population and the\n",
    "#calculation of the relative risk in proportion of no sell out crowd games\n",
    "for i in range(n_simul):\n",
    "    np.random.shuffle(all_games)\n",
    "    sellout = all_games[:n_sellout]\n",
    "    no_sellout = all_games[n_sellout:]\n",
    "    res_relativerisk[i] = (np.sum(no_sellout)/len(no_sellout))/(np.sum(sellout)/len(sellout))"
   ]
  },
  {
   "cell_type": "code",
   "execution_count": 86,
   "metadata": {
    "collapsed": false
   },
   "outputs": [
    {
     "data": {
      "image/png": "[encoded data removed]",
      "text/plain": [
       "<matplotlib.figure.Figure at 0x11966db38>"
      ]
     },
     "metadata": {},
     "output_type": "display_data"
    }
   ],
   "source": [
    "fig = plt.figure(figsize=(6,4))\n",
    "ax1 = fig.add_axes([0.1, 0.15, 0.82, 0.75])\n",
    "ax2 = ax1.twinx()\n",
    "ax3 = ax1.twinx()\n",
    "    \n",
    "for ax in [ax1]:\n",
    "    ax.hist(res_relativerisk[res_relativerisk!=np.inf], bins=\"auto\", color=colors[\"blue\"])\n",
    "    for spine in [\"bottom\"]:\n",
    "        ax.spines[spine].set_linewidth(1)\n",
    "        ax.spines[spine].set_color(colors[\"lightgray\"])\n",
    "    for spine in [\"top\", \"right\", \"left\"]:\n",
    "        ax.spines[spine].set_visible(False)\n",
    "    ax.set_yticks([])\n",
    "    ax.tick_params(axis=\"both\", width=1, size=4, color=colors[\"lightgray\"], labelcolor=colors[\"lightgray\"], \n",
    "                   labelsize=13, pad=4)\n",
    "    #ax.text(1, -250, 'Relative risk', size=18, color=colors[\"lightgray\"], ha=\"center\")\n",
    "    ax.set_xlabel('Relative risk', size=18, color=colors[\"lightgray\"], ha=\"center\")\n",
    "    ax.set_ylim(0)\n",
    "    ax.set_xlim(0., 6)\n",
    "    ax.axvline(1, color=colors[\"red\"], ymax=1)\n",
    "    \n",
    "for ax in [ax2]:\n",
    "    ax.axvline(relativerisk, color=colors[\"orange\"], ymax=0.8)\n",
    "    ax.text(relativerisk, ax.get_ylim()[1]*0.85, \"Observed statistic\\nRelative Risk = {:.1f}\".format(relativerisk), size=14, color=colors[\"orange\"], ha=\"center\")\n",
    "\n",
    "for ax in [ax3]:\n",
    "    ax.text(relativerisk+0.5, ax.get_ylim()[1]*0.5, \"{:.0f} simulations$\\geq${:.1f}\\n{:.0f} simulations$\\leq${:.2f}\\n(2-tail p-value={:.3f})\".format(np.sum(res_relativerisk>=relativerisk), relativerisk, np.sum(res_relativerisk<=1/relativerisk), 1/relativerisk, (np.sum(res_relativerisk>=relativerisk)+np.sum(res_relativerisk<=1/relativerisk))/10000), size=14, color=colors[\"lightgray\"], ha=\"left\")\n",
    "    ax.axvline(1/relativerisk, color=colors[\"orange\"], ymax=0.8)\n",
    "    ax.text(1/relativerisk, ax.get_ylim()[1]*0.85, r\"$\\frac{{1}}{{3.1}}$\" \"\\n({:.2f})\".format(1/relativerisk), size=14, color=colors[\"orange\"], ha=\"center\")\n",
    "\n",
    "\n",
    "for ax in [ax2, ax3]:\n",
    "    ax.set_ylim(0)\n",
    "    ax.axis(\"off\")\n",
    "\n",
    "plt.savefig(\"/Users/Gui/Box Sync/_STATS13/_Slides/_stats13-Lectures/assets/img/lec/sell-out-crowd-simulation-pvalue.svg\", transparent=True)"
   ]
  },
  {
   "cell_type": "markdown",
   "metadata": {},
   "source": [
    "### 95% confidence intervals"
   ]
  },
  {
   "cell_type": "code",
   "execution_count": 87,
   "metadata": {
    "collapsed": false
   },
   "outputs": [
    {
     "name": "stderr",
     "output_type": "stream",
     "text": [
      "/Users/Gui/anaconda/lib/python3.6/site-packages/ipykernel/__main__.py:18: RuntimeWarning: divide by zero encountered in double_scalars\n"
     ]
    }
   ],
   "source": [
    "#we keep the two groups separated and draw bootstrap samples from them\n",
    "population_sellout = np.zeros(data.sellout.sum())\n",
    "population_sellout[:data.sellout.win] = 1\n",
    "population_no_sellout = np.zeros(data.no_sellout.sum())\n",
    "population_no_sellout[:data.no_sellout.win] = 1\n",
    "\n",
    "\n",
    "n_simul = 10000\n",
    "res_relativerisk = np.zeros(n_simul) #store the data\n",
    "n_sellout = data.sellout.sum() #number of shifts with Gilbert present\n",
    "n_no_sellout = data.no_sellout.sum() #number of shifts without Gilbert present\n",
    "\n",
    "#each simulation is the separate bootstrap drawing from the two groups\n",
    "#calculation of the statistic\n",
    "for i in range(n_simul):\n",
    "    sample_sellout = np.random.choice(population_sellout, size=n_sellout)\n",
    "    sample_no_sellout = np.random.choice(population_no_sellout, size=n_no_sellout)\n",
    "    relativerisk = (sample_no_sellout.sum()/n_no_sellout)/(sample_sellout.sum()/n_sellout)\n",
    "    res_relativerisk[i] = relativerisk"
   ]
  },
  {
   "cell_type": "code",
   "execution_count": 100,
   "metadata": {
    "collapsed": false
   },
   "outputs": [
    {
     "data": {
      "image/png": "[encoded data removed]",
      "text/plain": [
       "<matplotlib.figure.Figure at 0x119bccc88>"
      ]
     },
     "metadata": {},
     "output_type": "display_data"
    }
   ],
   "source": [
    "fig = plt.figure(figsize=(6,4))\n",
    "ax1 = fig.add_axes([0.03, 0.15, 0.9, 0.75])\n",
    "ax2 = ax1.twinx()\n",
    "ax3 = ax1.twinx()\n",
    "    \n",
    "for ax in [ax1]:\n",
    "    ax.hist(res_relativerisk[res_relativerisk!=np.inf], bins=\"auto\", color=colors[\"blue\"])\n",
    "    for spine in [\"bottom\"]:\n",
    "        ax.spines[spine].set_linewidth(1)\n",
    "        ax.spines[spine].set_color(colors[\"lightgray\"])\n",
    "    for spine in [\"top\", \"right\", \"left\"]:\n",
    "        ax.spines[spine].set_visible(False)\n",
    "    ax.set_yticks([])\n",
    "    ax.tick_params(axis=\"both\", width=1, size=4, color=colors[\"lightgray\"], labelcolor=colors[\"lightgray\"], \n",
    "                   labelsize=13, pad=4)\n",
    "    ax.set_xlabel(\"Relative risk\", size=18, color=colors[\"lightgray\"], ha=\"center\")\n",
    "    ax.set_ylim(0)\n",
    "    #ax.set_xlim(0.85, 7)\n",
    "    \n",
    "for ax in [ax2]:\n",
    "    ax.axvline(data_r.no_sellout.win/data_r.sellout.win, color=colors[\"orange\"], ymax=0.95)\n",
    "    ax.text(data_r.no_sellout.win/data_r.sellout.win, ax.get_ylim()[1]*1, \"Observed statistic\\n{:.2f}\".format(data_r.no_sellout.win/data_r.sellout.win), size=14, color=colors[\"orange\"], ha=\"center\")\n",
    "\n",
    "for ax in [ax3]:\n",
    "    ax.axvline(np.percentile(res_relativerisk[res_relativerisk!=np.inf], 2.5), ymax=0.55, color=colors[\"red\"], lw=2)\n",
    "    ax.axvline(np.percentile(res_relativerisk[res_relativerisk!=np.inf], 97.5), ymax=0.55, color=colors[\"red\"], lw=2)\n",
    "    ax.text(np.percentile(res_relativerisk[res_relativerisk!=np.inf], 2.5), ax.get_ylim()[1]*0.6, \"2.5$^{{th}}$\\npercentile\\n{:.2f}\".format(np.percentile(res_relativerisk[res_relativerisk!=np.inf], 2.5)), color=colors[\"red\"], size=15, ha=\"center\")\n",
    "    ax.text(np.percentile(res_relativerisk[res_relativerisk!=np.inf], 97.5), ax.get_ylim()[1]*0.6, \"97.5$^{{th}}$\\npercentile\\n{:.2f}\".format(np.percentile(res_relativerisk[res_relativerisk!=np.inf], 97.5)), color=colors[\"red\"], size=15, ha=\"center\")\n",
    "\n",
    "\n",
    "for ax in [ax2, ax3]:\n",
    "    ax.set_ylim(0)\n",
    "    ax.axis(\"off\")\n",
    "\n",
    "\n",
    "plt.savefig(\"/Users/Gui/Box Sync/_STATS13/_Slides/_stats13-Lectures/assets/img/lec/sell-out-crowd-simulation-ci95.svg\", transparent=True)"
   ]
  },
  {
   "cell_type": "code",
   "execution_count": 96,
   "metadata": {
    "collapsed": false
   },
   "outputs": [
    {
     "data": {
      "text/plain": [
       "inf"
      ]
     },
     "execution_count": 96,
     "metadata": {},
     "output_type": "execute_result"
    }
   ],
   "source": [
    "np.percentile(res_relativerisk, 97.5)"
   ]
  },
  {
   "cell_type": "code",
   "execution_count": null,
   "metadata": {
    "collapsed": true
   },
   "outputs": [],
   "source": []
  }
 ],
 "metadata": {
  "kernelspec": {
   "display_name": "Python 3",
   "language": "python",
   "name": "python3"
  },
  "language_info": {
   "codemirror_mode": {
    "name": "ipython",
    "version": 3
   },
   "file_extension": ".py",
   "mimetype": "text/x-python",
   "name": "python",
   "nbconvert_exporter": "python",
   "pygments_lexer": "ipython3",
   "version": "3.6.0"
  }
 },
 "nbformat": 4,
 "nbformat_minor": 2
}
